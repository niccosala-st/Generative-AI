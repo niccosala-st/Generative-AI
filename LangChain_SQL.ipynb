{
  "nbformat": 4,
  "nbformat_minor": 0,
  "metadata": {
    "colab": {
      "provenance": [],
      "collapsed_sections": [
        "IGOqT0655Cvj",
        "6pDtagZ55HL5",
        "HfFTKeIg9CSf"
      ]
    },
    "kernelspec": {
      "name": "python3",
      "display_name": "Python 3"
    },
    "language_info": {
      "name": "python"
    }
  },
  "cells": [
    {
      "cell_type": "markdown",
      "source": [
        "#LangChain + SQL"
      ],
      "metadata": {
        "id": "FhZxNojU7Z4o"
      }
    },
    {
      "cell_type": "markdown",
      "source": [
        "##Configurazione"
      ],
      "metadata": {
        "id": "_pkYo_jb7c_0"
      }
    },
    {
      "cell_type": "code",
      "execution_count": null,
      "metadata": {
        "id": "obyEhBn491Gq"
      },
      "outputs": [],
      "source": [
        "!pip install langchain\n",
        "!pip install anthropic\n",
        "!pip install langchain-google-vertexai\n",
        "!pip install -qU langchain langchain-openai langchain-community langchain-experimental pandas"
      ]
    },
    {
      "cell_type": "code",
      "source": [
        "import pandas as pd\n",
        "import os\n",
        "import logging\n",
        "import json\n",
        "import sqlite3\n",
        "from sqlalchemy import create_engine\n",
        "\n",
        "from google.auth import credentials\n",
        "from google.oauth2 import service_account\n",
        "import google.cloud.aiplatform as aiplatform\n",
        "\n",
        "from langchain.chains import ConversationChain\n",
        "from langchain.chains.conversation.memory import ConversationBufferMemory\n",
        "from langchain_google_vertexai import VertexAI\n",
        "from langchain_community.agent_toolkits import create_sql_agent\n",
        "from langchain_experimental.sql import SQLDatabaseChain\n",
        "from langchain.agents.agent_toolkits import SQLDatabaseToolkit\n",
        "from langchain.agents.agent_types import AgentType\n",
        "from langchain_community.utilities import SQLDatabase\n",
        "from langchain.prompts.prompt import PromptTemplate\n",
        "from langchain import LLMChain\n",
        "\n",
        "import vertexai\n",
        "from anthropic import AnthropicVertex"
      ],
      "metadata": {
        "id": "00bgW9zW-Cau"
      },
      "execution_count": null,
      "outputs": []
    },
    {
      "cell_type": "code",
      "source": [
        "logging.basicConfig(level=logging.ERROR)"
      ],
      "metadata": {
        "id": "GhJzlcB3-DdL"
      },
      "execution_count": null,
      "outputs": []
    },
    {
      "cell_type": "code",
      "source": [
        "# Lettura JSON e aggiornamento parametri\n",
        "with open(\n",
        "    \"service_account.json\"\n",
        ") as f:\n",
        "    credentials = json.load(f)\n",
        "\n",
        "my_credentials = service_account.Credentials.from_service_account_info(\n",
        "    credentials\n",
        ")\n",
        "\n",
        "# Inizializzazione AI Platform\n",
        "aiplatform.init(\n",
        "    credentials=my_credentials,\n",
        ")\n",
        "\n",
        "with open(\"service_account.json\", encoding=\"utf-8\") as f:\n",
        "    project_json = json.load(f)\n",
        "    project_id = project_json[\"project_id\"]\n",
        "\n",
        "# Inizializzazione Vertex AI\n",
        "vertexai.init(project=project_id, location=\"europe-west1\")"
      ],
      "metadata": {
        "id": "XoQwzBda-I6a"
      },
      "execution_count": null,
      "outputs": []
    },
    {
      "cell_type": "code",
      "source": [
        "llm = VertexAI(model_name=\"text-bison@002\", max_output_tokens=50)"
      ],
      "metadata": {
        "id": "8ELziUCQ-KjJ"
      },
      "execution_count": null,
      "outputs": []
    },
    {
      "cell_type": "markdown",
      "source": [
        "Convertiamo il csv in una tabella persistente e apriamo la connessione."
      ],
      "metadata": {
        "id": "iA6Li401AFWl"
      }
    },
    {
      "cell_type": "markdown",
      "source": [
        "## Interroghiamo dataNFC"
      ],
      "metadata": {
        "id": "IGOqT0655Cvj"
      }
    },
    {
      "cell_type": "code",
      "source": [
        "# Lettura file CSV\n",
        "df = pd.read_csv('dataNFC.csv', sep=';')\n",
        "\n",
        "# Connessione al database SQLite\n",
        "conn = sqlite3.connect('datanfc.db')\n",
        "\n",
        "# Salva il DataFrame nel database come tabella\n",
        "df.to_sql(name=\"datanfc\", con=conn, if_exists='replace', index=False)\n",
        "\n",
        "# Creazione DB\n",
        "db = SQLDatabase.from_uri(database_uri=\"sqlite:///datanfc.db\",\n",
        "                          include_tables=['datanfc'],\n",
        "                          sample_rows_in_table_info=2)\n",
        "\n",
        "\n",
        "print(db.dialect)\n",
        "print(db.get_usable_table_names())\n",
        "print(db.get_table_info())"
      ],
      "metadata": {
        "colab": {
          "base_uri": "https://localhost:8080/"
        },
        "id": "s26Lv2XM5J68",
        "outputId": "f0afd602-0e8f-46fa-c6d2-81762cc978f6"
      },
      "execution_count": null,
      "outputs": [
        {
          "output_type": "stream",
          "name": "stdout",
          "text": [
            "sqlite\n",
            "['datanfc']\n",
            "\n",
            "CREATE TABLE datanfc (\n",
            "\tstatus TEXT, \n",
            "\tsystemtime INTEGER, \n",
            "\tdatetime TEXT, \n",
            "\tbool1 INTEGER\n",
            ")\n",
            "\n",
            "/*\n",
            "2 rows from datanfc table:\n",
            "status\tsystemtime\tdatetime\tbool1\n",
            "Checked In\t1689923154\t21/07/2023 09:02\t1\n",
            "Checked out\t1689933303\t21/07/2023 11:55\t0\n",
            "*/\n"
          ]
        }
      ]
    },
    {
      "cell_type": "code",
      "source": [
        "# Configurazione toolkit\n",
        "toolkit = SQLDatabaseToolkit(llm=llm, db=db)\n",
        "\n",
        "# Creazione SQL agent\n",
        "agent = create_sql_agent(\n",
        "    llm=llm,\n",
        "    toolkit=toolkit,\n",
        "    agent_type=AgentType.ZERO_SHOT_REACT_DESCRIPTION,\n",
        "    verbose=True\n",
        ")"
      ],
      "metadata": {
        "id": "MVriUCw756i6"
      },
      "execution_count": null,
      "outputs": []
    },
    {
      "cell_type": "code",
      "source": [
        "agent.invoke({\"input\": \"How many checked out in august 2023?\"})"
      ],
      "metadata": {
        "colab": {
          "base_uri": "https://localhost:8080/"
        },
        "id": "2XPPdL6X6AvB",
        "outputId": "69164778-ce33-4a58-cbc1-5c4b4b888064"
      },
      "execution_count": null,
      "outputs": [
        {
          "output_type": "stream",
          "name": "stdout",
          "text": [
            "\n",
            "\n",
            "\u001b[1m> Entering new SQL Agent Executor chain...\u001b[0m\n",
            "\u001b[32;1m\u001b[1;3m The checkout table has the checkout date. I can query the checkout table and filter the checkout date to get the count of checked out books in August 2023.\n",
            "Action: sql_db_query\n",
            "Action Input: SELECT     CAST(count(*) as BIGNUMERIC)   FROM     CHECKOUT   WHERE CHECKOUTDATE BETWEEN '08-01-2023' AND '08-31-2023'\u001b[0m\u001b[36;1m\u001b[1;3mError: (sqlite3.OperationalError) no such table: CHECKOUT\n",
            "[SQL: SELECT     CAST(count(*) as BIGNUMERIC)   FROM     CHECKOUT   WHERE CHECKOUTDATE BETWEEN '08-01-2023' AND '08-31-2023']\n",
            "(Background on this error at: https://sqlalche.me/e/20/e3q8)\u001b[0m\u001b[32;1m\u001b[1;3m There is no CHECKOUT table. I need to find the correct table name.\n",
            "Action: sql_db_list_tables\n",
            "Action Input: \u001b[0m\u001b[38;5;200m\u001b[1;3mdatanfc\u001b[0m\u001b[32;1m\u001b[1;3m The table name is datanfc. I can now query the datanfc table to get the count of checked out books in August 2023.\n",
            "Action: sql_db_query\n",
            "Action Input: SELECT     CAST(count(*) as BIGNUMERIC)   FROM     datanfc   WHERE CHECKOUTDATE BETWEEN '08-01-2023' AND '08-31-2023'\u001b[0m\u001b[36;1m\u001b[1;3mError: (sqlite3.OperationalError) no such column: CHECKOUTDATE\n",
            "[SQL: SELECT     CAST(count(*) as BIGNUMERIC)   FROM     datanfc   WHERE CHECKOUTDATE BETWEEN '08-01-2023' AND '08-31-2023']\n",
            "(Background on this error at: https://sqlalche.me/e/20/e3q8)\u001b[0m\u001b[32;1m\u001b[1;3m There is no CHECKOUTDATE column in the datanfc table. I need to find the correct column name.\n",
            "Action: sql_db_schema\n",
            "Action Input: datanfc\u001b[0m\u001b[33;1m\u001b[1;3m\n",
            "CREATE TABLE datanfc (\n",
            "\tstatus TEXT, \n",
            "\tsystemtime INTEGER, \n",
            "\tdatetime TEXT, \n",
            "\tbool1 INTEGER\n",
            ")\n",
            "\n",
            "/*\n",
            "2 rows from datanfc table:\n",
            "status\tsystemtime\tdatetime\tbool1\n",
            "Checked In\t1689923154\t21/07/2023 09:02\t1\n",
            "Checked out\t1689933303\t21/07/2023 11:55\t0\n",
            "*/\u001b[0m\u001b[32;1m\u001b[1;3m The column name is datetime. I can now query the datanfc table to get the count of checked out books in August 2023.\n",
            "Action: sql_db_query\n",
            "Action Input: SELECT     CAST(count(*) as BIGNUMERIC)   FROM     datanfc   WHERE datetime BETWEEN '08-01-2023' AND '08-31-2023'\u001b[0m\u001b[36;1m\u001b[1;3m[(0,)]\u001b[0m\u001b[32;1m\u001b[1;3m The count of checked out books in August 2023 is 0.\n",
            "Final Answer: 0\u001b[0m\n",
            "\n",
            "\u001b[1m> Finished chain.\u001b[0m\n"
          ]
        },
        {
          "output_type": "execute_result",
          "data": {
            "text/plain": [
              "{'input': 'How many checked out in august 2023?', 'output': '0'}"
            ]
          },
          "metadata": {},
          "execution_count": 149
        }
      ]
    },
    {
      "cell_type": "markdown",
      "source": [
        "Per come è strutturato il dataset, l'LLM fa fatica a ricostruire il significato semantico della richiesta rispetto alla struttura dei dati, perchè:\n",
        "- La colonna ***status*** non riflette appieno la descrizione Checked in/out, a meno che non venga richiesto esplicitamente in questo modo;\n",
        "- La colonna ***datetime*** contiene informazioni di tipo data e ora non formattate secondo un metodo standard, complicando la comprensione della data, dell'orario e la separazione tra i due.\n",
        "Questi due motivi portano ad una risposta erronea rispetto alla domanda fornita.\n",
        "\n",
        "Con questo approccio, è quindi necessario che le colonne riflettano semanticamente i possibili valori che possono assumere, o in alternativa avere una descrizione di ciascuna colonna, e che i dati di tipo ora, data, datetime e timestamp seguano una formattazione standard in modo da facilitare la ricerca delle informazioni."
      ],
      "metadata": {
        "id": "MO2jWxjA6QOu"
      }
    },
    {
      "cell_type": "markdown",
      "source": [
        "## Interroghiamo titanic"
      ],
      "metadata": {
        "id": "6pDtagZ55HL5"
      }
    },
    {
      "cell_type": "code",
      "source": [
        "# Lettura file CSV\n",
        "df = pd.read_csv('titanic.csv', sep=',')\n",
        "\n",
        "# Connessione al database SQLite\n",
        "conn = sqlite3.connect('titanic.db')\n",
        "\n",
        "# Salva il DataFrame nel database come tabella\n",
        "df.to_sql(name=\"titanic\", con=conn, if_exists='replace', index=False)\n",
        "\n",
        "# Creazione DB\n",
        "db = SQLDatabase.from_uri(database_uri=\"sqlite:///titanic.db\",\n",
        "                          include_tables=['titanic'],\n",
        "                          sample_rows_in_table_info=2)\n",
        "\n",
        "\n",
        "print(db.dialect)\n",
        "print(db.get_usable_table_names())\n",
        "print(db.get_table_info())"
      ],
      "metadata": {
        "colab": {
          "base_uri": "https://localhost:8080/"
        },
        "id": "sKHtQI0Z_GEB",
        "outputId": "6b8d9c89-1690-412e-936a-dafa65fe287a"
      },
      "execution_count": null,
      "outputs": [
        {
          "output_type": "stream",
          "name": "stdout",
          "text": [
            "sqlite\n",
            "['titanic']\n",
            "\n",
            "CREATE TABLE titanic (\n",
            "\t\"PassengerId\" INTEGER, \n",
            "\t\"Survived\" INTEGER, \n",
            "\t\"Pclass\" INTEGER, \n",
            "\t\"Name\" TEXT, \n",
            "\t\"Sex\" TEXT, \n",
            "\t\"Age\" REAL, \n",
            "\t\"SibSp\" INTEGER, \n",
            "\t\"Parch\" INTEGER, \n",
            "\t\"Ticket\" TEXT, \n",
            "\t\"Fare\" REAL, \n",
            "\t\"Cabin\" TEXT, \n",
            "\t\"Embarked\" TEXT\n",
            ")\n",
            "\n",
            "/*\n",
            "2 rows from titanic table:\n",
            "PassengerId\tSurvived\tPclass\tName\tSex\tAge\tSibSp\tParch\tTicket\tFare\tCabin\tEmbarked\n",
            "1\t0\t3\tBraund, Mr. Owen Harris\tmale\t22.0\t1\t0\tA/5 21171\t7.25\tNone\tS\n",
            "2\t1\t1\tCumings, Mrs. John Bradley (Florence Briggs Thayer)\tfemale\t38.0\t1\t0\tPC 17599\t71.2833\tC85\tC\n",
            "*/\n"
          ]
        }
      ]
    },
    {
      "cell_type": "code",
      "source": [
        "# Configurazione toolkit\n",
        "toolkit = SQLDatabaseToolkit(llm=llm, db=db)\n",
        "\n",
        "# Configurazione SQL agent\n",
        "agent = create_sql_agent(\n",
        "    llm=llm,\n",
        "    toolkit=toolkit,\n",
        "    agent_type=AgentType.ZERO_SHOT_REACT_DESCRIPTION,\n",
        "    verbose=True\n",
        ")"
      ],
      "metadata": {
        "id": "IAon6D01cIzs"
      },
      "execution_count": null,
      "outputs": []
    },
    {
      "cell_type": "code",
      "source": [
        "agent.invoke({\"input\": \"How many adult male passengers survived?\"})"
      ],
      "metadata": {
        "colab": {
          "base_uri": "https://localhost:8080/"
        },
        "id": "fU4DfXC8bxvA",
        "outputId": "f1a6ea32-495f-46a1-c996-24028e6e8fd1"
      },
      "execution_count": null,
      "outputs": [
        {
          "output_type": "stream",
          "name": "stdout",
          "text": [
            "\n",
            "\n",
            "\u001b[1m> Entering new SQL Agent Executor chain...\u001b[0m\n",
            "\u001b[32;1m\u001b[1;3m I need to count the number of adult male passengers who survived.\n",
            "Action: sql_db_query\n",
            "Action Input: SELECT COUNT(*) FROM passenger WHERE sex = 'male' AND age >= 18 AND survived = 1;\u001b[0m\u001b[36;1m\u001b[1;3mError: (sqlite3.OperationalError) no such table: passenger\n",
            "[SQL: SELECT COUNT(*) FROM passenger WHERE sex = 'male' AND age >= 18 AND survived = 1;]\n",
            "(Background on this error at: https://sqlalche.me/e/20/e3q8)\u001b[0m\u001b[32;1m\u001b[1;3m The passenger table does not exist.\n",
            "Action: sql_db_list_tables\n",
            "Action Input: \u001b[0m\u001b[38;5;200m\u001b[1;3mtitanic\u001b[0m\u001b[32;1m\u001b[1;3m The only table in the database is titanic.\n",
            "Action: sql_db_query\n",
            "Action Input: SELECT COUNT(*) FROM titanic WHERE sex = 'male' AND age >= 18 AND survived = 1;\u001b[0m\u001b[36;1m\u001b[1;3m[(70,)]\u001b[0m\u001b[32;1m\u001b[1;3m 70 adult male passengers survived.\n",
            "Final Answer: 70\u001b[0m\n",
            "\n",
            "\u001b[1m> Finished chain.\u001b[0m\n"
          ]
        },
        {
          "output_type": "execute_result",
          "data": {
            "text/plain": [
              "{'input': 'How many adult male passengers survived?', 'output': '70'}"
            ]
          },
          "metadata": {},
          "execution_count": 185
        }
      ]
    },
    {
      "cell_type": "markdown",
      "source": [
        "Come è possibile vedere dal risultato della query, usando un dataset ben strutturato è possibile  ottenere facilmente informazioni dalla base di dati."
      ],
      "metadata": {
        "id": "yzDsiXf38l1R"
      }
    },
    {
      "cell_type": "markdown",
      "source": [
        "## Memoria"
      ],
      "metadata": {
        "id": "HfFTKeIg9CSf"
      }
    },
    {
      "cell_type": "markdown",
      "source": [
        "Creiamo un esempio di chain con memoria in grado di recuperare le informazioni richieste dall'utente dalla base dati."
      ],
      "metadata": {
        "id": "pZYY--m4gXub"
      }
    },
    {
      "cell_type": "code",
      "source": [
        "TEMPLATE = \"\"\"Given the following conversation respond just to the question you were asked using the chat history and the query result as resources.\n",
        "Don't give informations not required.\n",
        "\n",
        "Current conversation:\n",
        "{history}{resources}\n",
        "Human: {input}\n",
        "AI Assistant:\"\"\""
      ],
      "metadata": {
        "id": "kd_lNvQpaKyA"
      },
      "execution_count": null,
      "outputs": []
    },
    {
      "cell_type": "markdown",
      "source": [
        "Definiamo una classe per creare la chain SQL con memoria"
      ],
      "metadata": {
        "id": "wQCmXyFqhDC0"
      }
    },
    {
      "cell_type": "code",
      "source": [
        "class MySQLAgentWithMemory:\n",
        "  def __init__(self, llm, toolkit, verbose):\n",
        "    self.llm = llm\n",
        "    self.toolkit = toolkit\n",
        "    self.agent = create_sql_agent(\n",
        "        llm=llm,\n",
        "        toolkit=toolkit,\n",
        "        agent_type=AgentType.ZERO_SHOT_REACT_DESCRIPTION,\n",
        "        verbose=verbose\n",
        "    )\n",
        "    self.history = ConversationChain(\n",
        "        llm=llm,\n",
        "        verbose=verbose,\n",
        "        memory=ConversationBufferMemory()\n",
        "    )\n",
        "\n",
        "  def invoke(self, question):\n",
        "\n",
        "    # Storico conversazione per ricostruire la domanda\n",
        "    resources = self.agent.invoke(\"[Previous infromations:\" + self.history.memory.buffer[-150:] + \"] current question:\" + question)\n",
        "\n",
        "    # Crea il prompt personalizzato per le risorse recuperate e assegnalo alla conversazione\n",
        "    prompt = PromptTemplate.from_template(TEMPLATE).partial(resources=resources)\n",
        "    self.history.prompt = prompt\n",
        "\n",
        "    # Predici la risposta\n",
        "    answer = self.history.predict(input=question)\n",
        "\n",
        "    return answer"
      ],
      "metadata": {
        "id": "tI1UoWix-9VO"
      },
      "execution_count": null,
      "outputs": []
    },
    {
      "cell_type": "code",
      "source": [
        "agent = MySQLAgentWithMemory(llm, toolkit, verbose=False)"
      ],
      "metadata": {
        "id": "-lfVnyxZIwYD"
      },
      "execution_count": null,
      "outputs": []
    },
    {
      "cell_type": "code",
      "source": [
        "question = \"What was the name of the oldest passenger?\"\n",
        "response = agent.invoke(question)\n",
        "\n",
        "print(response)"
      ],
      "metadata": {
        "colab": {
          "base_uri": "https://localhost:8080/"
        },
        "id": "vgBc9I51_jcX",
        "outputId": "9b7dc599-5166-4757-c611-cb808441dfa4"
      },
      "execution_count": null,
      "outputs": [
        {
          "output_type": "stream",
          "name": "stdout",
          "text": [
            " Barkworth, Mr. Algernon Henry Wilson\n"
          ]
        }
      ]
    },
    {
      "cell_type": "code",
      "source": [
        "question = \"How old was he?\"\n",
        "response = agent.invoke(question)\n",
        "\n",
        "print(response)"
      ],
      "metadata": {
        "colab": {
          "base_uri": "https://localhost:8080/"
        },
        "id": "acrRN7IECqdr",
        "outputId": "3787bf30-27d8-4953-ecfb-e16e44989866"
      },
      "execution_count": null,
      "outputs": [
        {
          "output_type": "stream",
          "name": "stdout",
          "text": [
            " 80 years old.\n"
          ]
        }
      ]
    },
    {
      "cell_type": "code",
      "source": [
        "question = \"Which was his cabin?\"\n",
        "response = agent.invoke(question)\n",
        "\n",
        "print(response)"
      ],
      "metadata": {
        "colab": {
          "base_uri": "https://localhost:8080/"
        },
        "id": "xwNFpc0jS8hd",
        "outputId": "ec29895e-a802-440b-b58a-013dcedb3139"
      },
      "execution_count": null,
      "outputs": [
        {
          "output_type": "stream",
          "name": "stdout",
          "text": [
            " A23\n"
          ]
        }
      ]
    },
    {
      "cell_type": "markdown",
      "source": [
        "La chain è in grado di rispondere basandosi sul DB e sullo storico della conversazione."
      ],
      "metadata": {
        "id": "d_wjyTXqhVxs"
      }
    }
  ]
}